{
 "cells": [
  {
   "cell_type": "code",
   "execution_count": 1,
   "id": "cd094448",
   "metadata": {},
   "outputs": [
    {
     "name": "stdout",
     "output_type": "stream",
     "text": [
      "current thread: MainThread\n"
     ]
    }
   ],
   "source": [
    "import threading \n",
    "print(\"current thread:\",threading.current_thread().getName())"
   ]
  },
  {
   "cell_type": "code",
   "execution_count": 2,
   "id": "7e629e07",
   "metadata": {},
   "outputs": [
    {
     "name": "stdout",
     "output_type": "stream",
     "text": [
      "child thread:main thread:\n",
      "child thread:\n",
      "child thread:\n",
      "child thread:\n",
      "\n",
      "main thread:\n",
      "main thread:\n",
      "main thread:\n"
     ]
    }
   ],
   "source": [
    "#thread creating without using class\n",
    "from threading import*\n",
    "def display():\n",
    "    for i in range(1,5):\n",
    "        print(\"child thread:\")\n",
    "t=Thread(target=display)#create thread obj\n",
    "t.start()\n",
    "for i in range(1,5):\n",
    "    print(\"main thread:\")  "
   ]
  },
  {
   "cell_type": "code",
   "execution_count": 3,
   "id": "5107afe9",
   "metadata": {},
   "outputs": [
    {
     "name": "stdout",
     "output_type": "stream",
     "text": [
      "child thread:main thread:\n",
      "\n",
      "main thread:\n",
      "main thread:\n",
      "main thread:\n",
      "main thread:\n"
     ]
    }
   ],
   "source": [
    "#creating thread by extending thread class\n",
    "from threading import*\n",
    "class mt(Thread):\n",
    "    def run(self):\n",
    "        print(\"child thread:\")\n",
    "t=mt()\n",
    "t.start()\n",
    "for i in range(5):\n",
    "    print(\"main thread:\")"
   ]
  },
  {
   "cell_type": "code",
   "execution_count": 5,
   "id": "86e4153c",
   "metadata": {},
   "outputs": [
    {
     "name": "stdout",
     "output_type": "stream",
     "text": [
      "child thread:\n",
      "child thread:\n",
      "child thread:\n",
      "child thread:\n",
      "main thread:\n",
      "main thread:\n",
      "main thread:\n",
      "main thread:\n"
     ]
    }
   ],
   "source": [
    "#creating thread without extending thread class\n",
    "from threading import*\n",
    "class Test:\n",
    "    def display(self):\n",
    "        for i in range(4):\n",
    "            print(\"child thread:\")\n",
    "o=Test()\n",
    "t=Thread(target=o.display)\n",
    "t.start()\n",
    "for i in range(4):\n",
    "    print(\"main thread:\")\n",
    "    "
   ]
  },
  {
   "cell_type": "code",
   "execution_count": null,
   "id": "b74b895a",
   "metadata": {},
   "outputs": [],
   "source": []
  }
 ],
 "metadata": {
  "kernelspec": {
   "display_name": "Python 3",
   "language": "python",
   "name": "python3"
  },
  "language_info": {
   "codemirror_mode": {
    "name": "ipython",
    "version": 3
   },
   "file_extension": ".py",
   "mimetype": "text/x-python",
   "name": "python",
   "nbconvert_exporter": "python",
   "pygments_lexer": "ipython3",
   "version": "3.8.8"
  }
 },
 "nbformat": 4,
 "nbformat_minor": 5
}
