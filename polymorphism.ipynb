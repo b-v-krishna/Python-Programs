{
 "cells": [
  {
   "cell_type": "code",
   "execution_count": 2,
   "id": "ae507990",
   "metadata": {},
   "outputs": [
    {
     "name": "stdout",
     "output_type": "stream",
     "text": [
      "quack..\n",
      "bow..\n"
     ]
    }
   ],
   "source": [
    "class duck:\n",
    "    def talk(self):\n",
    "        print(\"quack..\")\n",
    "class dog:\n",
    "    def talk(self):\n",
    "        print(\"bow..\")\n",
    "def f1(obj):\n",
    "    obj.talk()\n",
    "d=duck()\n",
    "f1(d)\n",
    "b=dog()\n",
    "f1(b)"
   ]
  },
  {
   "cell_type": "code",
   "execution_count": 6,
   "id": "836efd39",
   "metadata": {},
   "outputs": [
    {
     "name": "stdout",
     "output_type": "stream",
     "text": [
      "quack..\n",
      "bow..\n"
     ]
    }
   ],
   "source": [
    "class duck:\n",
    "    def talk(self):\n",
    "        print(\"quack..\")\n",
    "class dog:\n",
    "    def bark(self):\n",
    "        print(\"bow..\")\n",
    "def f1(obj):\n",
    "    if hasattr(obj,'talk'):\n",
    "        obj.talk()\n",
    "    elif hasattr(obj,\"bark\"):\n",
    "        obj.bark()\n",
    "d=duck()\n",
    "f1(d)\n",
    "b=dog()\n",
    "f1(b)"
   ]
  },
  {
   "cell_type": "code",
   "execution_count": 7,
   "id": "003319b5",
   "metadata": {},
   "outputs": [
    {
     "name": "stdout",
     "output_type": "stream",
     "text": [
      "the book: 300\n"
     ]
    }
   ],
   "source": [
    "class book:\n",
    "    def __init__(self,pages):\n",
    "        self.pages=pages\n",
    "    def __add__(self,other):\n",
    "        return self.pages+other.pages\n",
    "b1=book(100)\n",
    "b2=book(200)\n",
    "print(\"the book:\",b1+b2)"
   ]
  },
  {
   "cell_type": "code",
   "execution_count": 10,
   "id": "cbdd1363",
   "metadata": {},
   "outputs": [
    {
     "name": "stdout",
     "output_type": "stream",
     "text": [
      "False\n",
      "True\n"
     ]
    }
   ],
   "source": [
    "class stu:\n",
    "    def __init__(self,name,marks):\n",
    "        self.name=name\n",
    "        self.marks=marks\n",
    "    def __gt__(self,other):\n",
    "        return self.marks>other.marks\n",
    "s=stu(\"bhanu\",10)\n",
    "s1=stu(\"sai\",20)\n",
    "print(s>s1)\n",
    "print(s<s1)"
   ]
  },
  {
   "cell_type": "code",
   "execution_count": 14,
   "id": "406fb07f",
   "metadata": {},
   "outputs": [
    {
     "name": "stdout",
     "output_type": "stream",
     "text": [
      "30\n"
     ]
    }
   ],
   "source": [
    "class test:\n",
    "    def sum(self,a=None,b=None):\n",
    "        if a!=None and b!=None:\n",
    "            print(a+b)\n",
    "        else:\n",
    "            print(\"provide arguments\")\n",
    "t=test()\n",
    "t.sum(10,20)"
   ]
  },
  {
   "cell_type": "code",
   "execution_count": 19,
   "id": "ce08d41d",
   "metadata": {},
   "outputs": [
    {
     "name": "stdout",
     "output_type": "stream",
     "text": [
      "gold+land\n",
      "kajal\n",
      "sunny\n"
     ]
    }
   ],
   "source": [
    "#method overriding\n",
    "class p:\n",
    "    def property(self):\n",
    "        print(\"gold+land\")\n",
    "    def marry(self):\n",
    "        print(\"kajal\")\n",
    "class c(p):\n",
    "    def marry(self):\n",
    "        super().marry()\n",
    "        print(\"sunny\")\n",
    "c1=c()\n",
    "c1.property()\n",
    "c1.marry()"
   ]
  },
  {
   "cell_type": "code",
   "execution_count": null,
   "id": "aa5976f4",
   "metadata": {},
   "outputs": [],
   "source": []
  }
 ],
 "metadata": {
  "kernelspec": {
   "display_name": "Python 3",
   "language": "python",
   "name": "python3"
  },
  "language_info": {
   "codemirror_mode": {
    "name": "ipython",
    "version": 3
   },
   "file_extension": ".py",
   "mimetype": "text/x-python",
   "name": "python",
   "nbconvert_exporter": "python",
   "pygments_lexer": "ipython3",
   "version": "3.8.8"
  }
 },
 "nbformat": 4,
 "nbformat_minor": 5
}
