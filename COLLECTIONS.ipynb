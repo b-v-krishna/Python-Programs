{
 "cells": [
  {
   "cell_type": "code",
   "execution_count": 15,
   "id": "6efcf3b3",
   "metadata": {},
   "outputs": [
    {
     "name": "stdout",
     "output_type": "stream",
     "text": [
      "course(name='data science', technology='python')\n"
     ]
    }
   ],
   "source": [
    "from collections import * #named tuple\n",
    "a=namedtuple('course','name,technology')\n",
    "s = a('data science' , 'python')\n",
    "print(s)"
   ]
  },
  {
   "cell_type": "code",
   "execution_count": 16,
   "id": "8fd863a5",
   "metadata": {},
   "outputs": [
    {
     "name": "stdout",
     "output_type": "stream",
     "text": [
      "deque(['e', 'd', 'u', 'r'])\n",
      "deque(['d', 'u', 'r', 'python'])\n"
     ]
    }
   ],
   "source": [
    " #deque\n",
    "from collections import*\n",
    "a=['e','d','u','r' ]\n",
    "d=deque(a)\n",
    "print(d)\n",
    "d.append('python')\n",
    "d.popleft()\n",
    "print(d)"
   ]
  },
  {
   "cell_type": "code",
   "execution_count": 18,
   "id": "96f72bef",
   "metadata": {},
   "outputs": [
    {
     "name": "stdout",
     "output_type": "stream",
     "text": [
      "ChainMap({1: 'bhanu', 2: 'sai'}, {3: 'naveen', 4: 'sasi'})\n"
     ]
    }
   ],
   "source": [
    "#chainmap\n",
    "from collections import*\n",
    "a={1:'bhanu',2:'sai'}\n",
    "b={3:'naveen',4:'sasi'}\n",
    "a1=ChainMap(a,b)\n",
    "print(a1)"
   ]
  },
  {
   "cell_type": "code",
   "execution_count": 23,
   "id": "123089d4",
   "metadata": {},
   "outputs": [
    {
     "name": "stdout",
     "output_type": "stream",
     "text": [
      "Counter({1: 2, 2: 2, 4: 2, 3: 1, 5: 1})\n",
      "[1, 1, 2, 2, 3, 4, 4, 5]\n",
      "[(1, 2), (2, 2), (4, 2), (3, 1), (5, 1)]\n",
      "None\n",
      "[(1, 2), (4, 2), (2, 1), (3, 1), (5, 1)]\n"
     ]
    }
   ],
   "source": [
    "#counter\n",
    "from collections import*\n",
    "a=[1,2,3,4,4,2,1,5]\n",
    "c=Counter(a)\n",
    "print(c)\n",
    "print(list(c.elements()))\n",
    "print(c.most_common())\n",
    "s={2:1}\n",
    "print(c.subtract(s))\n",
    "print(c.most_common())"
   ]
  },
  {
   "cell_type": "code",
   "execution_count": 25,
   "id": "676a8801",
   "metadata": {},
   "outputs": [
    {
     "name": "stdout",
     "output_type": "stream",
     "text": [
      "OrderedDict([(1, 'e'), (2, 'd'), (3, 'u'), (4, 'r')])\n",
      "odict_keys([1, 2, 3, 4])\n"
     ]
    }
   ],
   "source": [
    "#ordere dict\n",
    "from collections import*\n",
    "d=OrderedDict()\n",
    "d[1]='e'\n",
    "d[2]='d'\n",
    "d[3]='u'\n",
    "d[4]='r'\n",
    "print(d)\n",
    "print(d.keys())"
   ]
  },
  {
   "cell_type": "code",
   "execution_count": 29,
   "id": "28b08bb1",
   "metadata": {},
   "outputs": [
    {
     "name": "stdout",
     "output_type": "stream",
     "text": [
      "0\n"
     ]
    }
   ],
   "source": [
    "#defaultdict\n",
    "from collections import*\n",
    "d=defaultdict(int)\n",
    "d[1]='python'\n",
    "d[2]='java'\n",
    "print(d[3])"
   ]
  },
  {
   "cell_type": "code",
   "execution_count": 4,
   "id": "17234a32",
   "metadata": {},
   "outputs": [
    {
     "name": "stdout",
     "output_type": "stream",
     "text": [
      "['p', 'p', 'q', 'q']\n"
     ]
    }
   ],
   "source": [
    "from collections import*\n",
    "c=Counter(p=2,q=2)\n",
    "print(list(c.elements()))\n"
   ]
  },
  {
   "cell_type": "code",
   "execution_count": 5,
   "id": "26b4a0d8",
   "metadata": {},
   "outputs": [
    {
     "name": "stdout",
     "output_type": "stream",
     "text": [
      "[('s', 4), ('e', 3), ('f', 3), ('k', 2), ('p', 2), ('w', 2), ('d', 2), ('a', 2), ('l', 1), ('r', 1), ('o', 1)]\n"
     ]
    }
   ],
   "source": [
    "from collections import*\n",
    "c=Counter('lkseropewdssafsdfafkpwe')\n",
    "print(c.most_common())\n"
   ]
  },
  {
   "cell_type": "code",
   "execution_count": null,
   "id": "974defb5",
   "metadata": {},
   "outputs": [],
   "source": [
    "from collections import*\n"
   ]
  }
 ],
 "metadata": {
  "kernelspec": {
   "display_name": "Python 3",
   "language": "python",
   "name": "python3"
  },
  "language_info": {
   "codemirror_mode": {
    "name": "ipython",
    "version": 3
   },
   "file_extension": ".py",
   "mimetype": "text/x-python",
   "name": "python",
   "nbconvert_exporter": "python",
   "pygments_lexer": "ipython3",
   "version": "3.8.8"
  }
 },
 "nbformat": 4,
 "nbformat_minor": 5
}
