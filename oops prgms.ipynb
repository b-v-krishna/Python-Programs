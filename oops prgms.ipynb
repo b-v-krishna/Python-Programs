{
 "cells": [
  {
   "cell_type": "code",
   "execution_count": 2,
   "id": "2257d7ff",
   "metadata": {},
   "outputs": [
    {
     "name": "stdout",
     "output_type": "stream",
     "text": [
      "{'eno': 100, 'ename': 'bhanu', 'sal': 100000}\n"
     ]
    }
   ],
   "source": [
    "#instance variables inside constructor using self\n",
    "class emp:\n",
    "    def __init__(self):\n",
    "        self.eno=100\n",
    "        self.ename='bhanu'\n",
    "        self.sal=100000\n",
    "e=emp()\n",
    "print(e.__dict__)"
   ]
  },
  {
   "cell_type": "code",
   "execution_count": 3,
   "id": "78c570b6",
   "metadata": {},
   "outputs": [
    {
     "name": "stdout",
     "output_type": "stream",
     "text": [
      "{'eno': 100, 'ename': 'bhanu', 'sal': 100000, 'id': 102}\n"
     ]
    }
   ],
   "source": [
    "#instance var inside instance method\n",
    "class emp:\n",
    "    def __init__(self):\n",
    "        self.eno=100\n",
    "        self.ename='bhanu'\n",
    "        self.sal=100000\n",
    "    def m1(self):\n",
    "        self.id=102\n",
    "e=emp()\n",
    "e.m1()\n",
    "print(e.__dict__)"
   ]
  },
  {
   "cell_type": "code",
   "execution_count": 4,
   "id": "43a57f2e",
   "metadata": {},
   "outputs": [
    {
     "name": "stdout",
     "output_type": "stream",
     "text": [
      "{'eno': 100, 'ename': 'bhanu', 'sal': 100000, 'id': 102, 'hiredate': '20-10-2009'}\n"
     ]
    }
   ],
   "source": [
    "#instance var outside class using object reference variable\n",
    "class emp:\n",
    "    def __init__(self):\n",
    "        self.eno=100\n",
    "        self.ename='bhanu'\n",
    "        self.sal=100000\n",
    "    def m1(self):\n",
    "        self.id=102\n",
    "e=emp()\n",
    "e.m1()\n",
    "e.hiredate=\"20-10-2009\"\n",
    "print(e.__dict__)"
   ]
  },
  {
   "cell_type": "code",
   "execution_count": 5,
   "id": "3d7c0c23",
   "metadata": {},
   "outputs": [
    {
     "name": "stdout",
     "output_type": "stream",
     "text": [
      "100\n",
      "bhanu\n",
      "100000\n"
     ]
    }
   ],
   "source": [
    "#accesing instance var inside class using self and outside usin obj ref\n",
    "class emp:\n",
    "    def __init__(self):\n",
    "        self.eno=100\n",
    "        self.ename='bhanu'\n",
    "        self.sal=100000\n",
    "    def m1(self):\n",
    "        print(self.eno)\n",
    "        print(self.ename)\n",
    "e=emp()\n",
    "e.m1()\n",
    "print(e.sal)"
   ]
  },
  {
   "cell_type": "code",
   "execution_count": 2,
   "id": "a2048fe6",
   "metadata": {},
   "outputs": [
    {
     "name": "stdout",
     "output_type": "stream",
     "text": [
      "t1: 10 20\n",
      "t2: 10 20\n",
      "t1: 888 999\n",
      "t2: 888 20\n"
     ]
    }
   ],
   "source": [
    "#static variable\n",
    "class test:\n",
    "    x=10\n",
    "    def __init__(self):\n",
    "        self.y=20\n",
    "t1=test()\n",
    "t2=test()\n",
    "print(\"t1:\",t1.x,t1.y)\n",
    "print(\"t2:\",t2.x,t2.y)\n",
    "test.x=888\n",
    "t1.y=999\n",
    "print(\"t1:\",t1.x,t1.y)\n",
    "print(\"t2:\",t2.x,t2.y)\n"
   ]
  },
  {
   "cell_type": "code",
   "execution_count": 2,
   "id": "31e3c942",
   "metadata": {},
   "outputs": [
    {
     "name": "stdout",
     "output_type": "stream",
     "text": [
      "enter namebhanu\n",
      "hi bhanu\n"
     ]
    }
   ],
   "source": [
    "#setter and getter methods\n",
    "class student:\n",
    "    def setName(self,name):\n",
    "        self.name=name\n",
    "    def getName(self):\n",
    "        return self.name\n",
    "s=student()\n",
    "name=input(\"enter name:\")\n",
    "s.setName(name)\n",
    "print(\"hi\",s.getName())"
   ]
  },
  {
   "cell_type": "code",
   "execution_count": 18,
   "id": "0a51c748",
   "metadata": {},
   "outputs": [
    {
     "name": "stdout",
     "output_type": "stream",
     "text": [
      "dog walks with legs 4..\n"
     ]
    }
   ],
   "source": [
    "class Animal: \n",
    "    legs=4\n",
    "    @classmethod\n",
    "    def walk(cls,name): \n",
    "        print('{} walks with legs {}..'.format(name,cls.legs)) \n",
    "Animal.walk(\"dog\")"
   ]
  },
  {
   "cell_type": "code",
   "execution_count": 9,
   "id": "a7c1a4cd",
   "metadata": {},
   "outputs": [
    {
     "name": "stdout",
     "output_type": "stream",
     "text": [
      "5\n"
     ]
    }
   ],
   "source": [
    "class d:\n",
    "    def add(x,y):\n",
    "        print(x+y)\n",
    "d.add(2,3)"
   ]
  },
  {
   "cell_type": "code",
   "execution_count": 19,
   "id": "78f680cf",
   "metadata": {},
   "outputs": [
    {
     "name": "stdout",
     "output_type": "stream",
     "text": [
      "eno=20,esal=3000.\n"
     ]
    }
   ],
   "source": [
    "class emp:\n",
    "    def __init__(self,eno,esal):\n",
    "        self.eno=eno\n",
    "        self.esal=esal\n",
    "    def display(self):\n",
    "        print(\"eno={},esal={}.\".format(self.eno,self.esal))\n",
    "class test:\n",
    "    def modify(em):\n",
    "        em.esal=em.esal+1000\n",
    "        em.display()\n",
    "e=emp(20,2000)\n",
    "test.modify(e)"
   ]
  },
  {
   "cell_type": "code",
   "execution_count": 24,
   "id": "d19e8d04",
   "metadata": {},
   "outputs": [
    {
     "name": "stdout",
     "output_type": "stream",
     "text": [
      "outer class:\n",
      "inner:\n",
      "inner class method:\n",
      "inner:\n",
      "inner class method:\n",
      "outer class:\n",
      "inner:\n",
      "inner class method:\n"
     ]
    }
   ],
   "source": [
    "class out:\n",
    "    def __init__(self):\n",
    "        print(\"outer class:\")\n",
    "    class inner:\n",
    "        def __init__(self):\n",
    "            print(\"inner:\")\n",
    "        def m1(self):\n",
    "            print(\"inner class method:\")\n",
    "o=out()\n",
    "i=o.inner()\n",
    "i.m1()\n",
    "o1=out.inner()\n",
    "o1.m1()\n",
    "out().inner().m1()"
   ]
  },
  {
   "cell_type": "code",
   "execution_count": 25,
   "id": "d7b796a3",
   "metadata": {},
   "outputs": [
    {
     "name": "stdout",
     "output_type": "stream",
     "text": [
      "True\n",
      "False\n"
     ]
    }
   ],
   "source": [
    "import gc\n",
    "print(gc.isenabled())\n",
    "gc.disable()\n",
    "print(gc.isenabled())"
   ]
  },
  {
   "cell_type": "code",
   "execution_count": null,
   "id": "469d3d3c",
   "metadata": {},
   "outputs": [],
   "source": []
  }
 ],
 "metadata": {
  "kernelspec": {
   "display_name": "Python 3",
   "language": "python",
   "name": "python3"
  },
  "language_info": {
   "codemirror_mode": {
    "name": "ipython",
    "version": 3
   },
   "file_extension": ".py",
   "mimetype": "text/x-python",
   "name": "python",
   "nbconvert_exporter": "python",
   "pygments_lexer": "ipython3",
   "version": "3.8.8"
  }
 },
 "nbformat": 4,
 "nbformat_minor": 5
}
