{
 "cells": [
  {
   "cell_type": "code",
   "execution_count": 3,
   "id": "31fe5ebe",
   "metadata": {},
   "outputs": [
    {
     "name": "stdout",
     "output_type": "stream",
     "text": [
      "file name: a.txt\n",
      "file mode: w\n",
      "is file readable: False\n",
      "file writable(): True\n",
      "file closed: False\n",
      "is file closed: True\n"
     ]
    }
   ],
   "source": [
    "f=open(\"a.txt\",'w')\n",
    "print(\"file name:\",f.name)\n",
    "print(\"file mode:\",f.mode)\n",
    "print(\"is file readable:\",f.readable())\n",
    "print(\"file writable():\",f.writable())\n",
    "print(\"file closed:\",f.closed)\n",
    "f.close()\n",
    "print(\"is file closed:\",f.closed)"
   ]
  },
  {
   "cell_type": "code",
   "execution_count": 5,
   "id": "81176af7",
   "metadata": {},
   "outputs": [
    {
     "name": "stdout",
     "output_type": "stream",
     "text": [
      "data written successfully\n"
     ]
    }
   ],
   "source": [
    "f=open(\"a.txt\",\"w\")\n",
    "f.write(\"bhanu\\n\")\n",
    "f.write(\"krishna\\n\")\n",
    "print(\"data written successfully\")"
   ]
  },
  {
   "cell_type": "code",
   "execution_count": 8,
   "id": "5452b71b",
   "metadata": {},
   "outputs": [
    {
     "name": "stdout",
     "output_type": "stream",
     "text": [
      "bhanu\n",
      "kris\n"
     ]
    }
   ],
   "source": [
    "f=open(\"a.txt\",\"r\")\n",
    "d=f.read(10)\n",
    "print(d)\n",
    "f.close()"
   ]
  },
  {
   "cell_type": "code",
   "execution_count": 10,
   "id": "d8cd0747",
   "metadata": {},
   "outputs": [
    {
     "name": "stdout",
     "output_type": "stream",
     "text": [
      "bhanu\n",
      "krishna\n"
     ]
    }
   ],
   "source": [
    "f=open(\"a.txt\",\"r\")\n",
    "d=f.readline()\n",
    "print(d,end='')\n",
    "d1=f.readline()\n",
    "print(d1,end='')\n",
    "f.close()"
   ]
  },
  {
   "cell_type": "code",
   "execution_count": 12,
   "id": "27466411",
   "metadata": {},
   "outputs": [
    {
     "name": "stdout",
     "output_type": "stream",
     "text": [
      "is file closed False\n",
      "is file closeed True\n"
     ]
    }
   ],
   "source": [
    "with open(\"a.txt\",\"w\") as f:\n",
    "    f.write(\"venkat\\n\")\n",
    "    f.write(\"sai\\n\")\n",
    "    f.write(\"bhargav\\n\")\n",
    "    print(\"is file closed\",f.closed)\n",
    "print(\"is file closeed\",f.closed)"
   ]
  },
  {
   "cell_type": "code",
   "execution_count": 13,
   "id": "240be0db",
   "metadata": {},
   "outputs": [
    {
     "name": "stdout",
     "output_type": "stream",
     "text": [
      "0\n",
      "ve\n",
      "2\n"
     ]
    }
   ],
   "source": [
    "f=open(\"a.txt\",\"r\")\n",
    "print(f.tell())\n",
    "print(f.read(2))\n",
    "print(f.tell())"
   ]
  },
  {
   "cell_type": "code",
   "execution_count": 16,
   "id": "b0df5f39",
   "metadata": {},
   "outputs": [
    {
     "name": "stdout",
     "output_type": "stream",
     "text": [
      "enter file name:b.txt\n",
      "file does not exist b.txt\n"
     ]
    },
    {
     "ename": "SystemExit",
     "evalue": "0",
     "output_type": "error",
     "traceback": [
      "An exception has occurred, use %tb to see the full traceback.\n",
      "\u001b[1;31mSystemExit\u001b[0m\u001b[1;31m:\u001b[0m 0\n"
     ]
    },
    {
     "name": "stderr",
     "output_type": "stream",
     "text": [
      "C:\\Users\\BHANU\\anaconda3\\lib\\site-packages\\IPython\\core\\interactiveshell.py:3445: UserWarning: To exit: use 'exit', 'quit', or Ctrl-D.\n",
      "  warn(\"To exit: use 'exit', 'quit', or Ctrl-D.\", stacklevel=1)\n"
     ]
    }
   ],
   "source": [
    "import os,sys\n",
    "f=input(\"enter file name:\")\n",
    "if os.path.isfile(f):\n",
    "    print(\"file exists:\",f)\n",
    "    f1=open(f,\"r\")\n",
    "else:\n",
    "    print(\"file does not exist\",f)\n",
    "    sys.exit(0)\n",
    "print(\"the content of file is:\")\n",
    "d=f1.read()"
   ]
  },
  {
   "cell_type": "code",
   "execution_count": 19,
   "id": "2da9a6c7",
   "metadata": {},
   "outputs": [
    {
     "name": "stdout",
     "output_type": "stream",
     "text": [
      "enter file name:a.txt\n",
      "file exists: a.txt\n",
      "the content of file is:\n",
      "venkat\n",
      "sai\n",
      "bhargav\n",
      "\n",
      "the lines 0 the words0 the charcters0 \n"
     ]
    }
   ],
   "source": [
    "import os,sys\n",
    "f=input(\"enter file name:\")\n",
    "if os.path.isfile(f):\n",
    "    print(\"file exists:\",f)\n",
    "    f1=open(f,\"r\")\n",
    "else:\n",
    "    print(\"file does not exist\",f)\n",
    "    sys.exit(0)\n",
    "print(\"the content of file is:\")\n",
    "d=f1.read()\n",
    "print(d)\n",
    "l=c=w=0\n",
    "for line in f1:\n",
    "    l=l+1\n",
    "    c=c+len(line)\n",
    "    w=line.split()\n",
    "    w=w+len(w)\n",
    "print(\"the lines {} the words{} the charcters{} \".format(l,c,w))"
   ]
  },
  {
   "cell_type": "code",
   "execution_count": null,
   "id": "9e5630c9",
   "metadata": {},
   "outputs": [],
   "source": []
  }
 ],
 "metadata": {
  "kernelspec": {
   "display_name": "Python 3",
   "language": "python",
   "name": "python3"
  },
  "language_info": {
   "codemirror_mode": {
    "name": "ipython",
    "version": 3
   },
   "file_extension": ".py",
   "mimetype": "text/x-python",
   "name": "python",
   "nbconvert_exporter": "python",
   "pygments_lexer": "ipython3",
   "version": "3.8.8"
  }
 },
 "nbformat": 4,
 "nbformat_minor": 5
}
