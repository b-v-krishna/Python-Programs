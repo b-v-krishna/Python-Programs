{
 "cells": [
  {
   "cell_type": "code",
   "execution_count": 6,
   "id": "86e49deb",
   "metadata": {},
   "outputs": [
    {
     "data": {
      "text/plain": [
       "3"
      ]
     },
     "execution_count": 6,
     "metadata": {},
     "output_type": "execute_result"
    }
   ],
   "source": [
    "#itertools\n",
    "a=[1,2,3]\n",
    "b=iter(a)\n",
    "next(b)\n",
    "next(b)"
   ]
  },
  {
   "cell_type": "code",
   "execution_count": 7,
   "id": "f53d5c30",
   "metadata": {},
   "outputs": [
    {
     "name": "stdout",
     "output_type": "stream",
     "text": [
      "0\n",
      "2\n",
      "4\n"
     ]
    }
   ],
   "source": [
    "#infinite iterators\n",
    "#count,cycle,repeat\n",
    "from itertools import*\n",
    "a=count(0,2) #(start,step)\n",
    "d=1\n",
    "for i in a:\n",
    "    if d>3:\n",
    "        break\n",
    "    else:\n",
    "        print(i)\n",
    "    d+=1"
   ]
  },
  {
   "cell_type": "code",
   "execution_count": 6,
   "id": "e5b560ad",
   "metadata": {},
   "outputs": [
    {
     "name": "stdout",
     "output_type": "stream",
     "text": [
      "1\n",
      "2\n",
      "3\n"
     ]
    }
   ],
   "source": [
    "from itertools import *  #cycle\n",
    "a=cycle([1,2,3,4])  \n",
    "d=1\n",
    "for i in a:\n",
    "    if d>3:\n",
    "        break\n",
    "    else:\n",
    "        print(i)\n",
    "    d+=1"
   ]
  },
  {
   "cell_type": "code",
   "execution_count": 11,
   "id": "a2f544cc",
   "metadata": {},
   "outputs": [
    {
     "name": "stdout",
     "output_type": "stream",
     "text": [
      "1\n",
      "1\n",
      "1\n",
      "1\n"
     ]
    }
   ],
   "source": [
    "from itertools import *  #repeat\n",
    "a=repeat(1,4)  \n",
    "d=1\n",
    "for i in a:\n",
    "    if d>5:\n",
    "        break\n",
    "    else:\n",
    "        print(i)\n",
    "    d+=1"
   ]
  },
  {
   "cell_type": "code",
   "execution_count": 14,
   "id": "e6bec376",
   "metadata": {},
   "outputs": [
    {
     "name": "stdout",
     "output_type": "stream",
     "text": [
      "1\n",
      "2\n",
      "6\n"
     ]
    }
   ],
   "source": [
    "from itertools import*\n",
    "import operator #accumulate\n",
    "a=[1,2,3]\n",
    "b=accumulate(a,operator.mul)\n",
    "for i in b:\n",
    "    print(i)"
   ]
  },
  {
   "cell_type": "code",
   "execution_count": 19,
   "id": "7615885c",
   "metadata": {},
   "outputs": [
    {
     "name": "stdout",
     "output_type": "stream",
     "text": [
      "1\n",
      "3\n",
      "5\n"
     ]
    }
   ],
   "source": [
    "#compress\n",
    "from itertools import*\n",
    "a=[1,2,3,4,5]\n",
    "s=[1,0,1,0,1]\n",
    "b=compress(a,s) #(selectors,iterables)\n",
    "for i in b:\n",
    "    print(i)"
   ]
  },
  {
   "cell_type": "code",
   "execution_count": 24,
   "id": "a98556d8",
   "metadata": {},
   "outputs": [
    {
     "name": "stdout",
     "output_type": "stream",
     "text": [
      "50\n",
      "60\n",
      "70\n",
      "80\n",
      "90\n"
     ]
    }
   ],
   "source": [
    "#dropwhile\n",
    "from itertools import*\n",
    "a=list(range(0,100,10))\n",
    "b=dropwhile(lambda x:x<50,a) #we can use filter false also\n",
    "for i in b:\n",
    "    print(i)\n",
    "#takewhile is opposite to dropwhile"
   ]
  },
  {
   "cell_type": "code",
   "execution_count": 29,
   "id": "1460f23f",
   "metadata": {},
   "outputs": [
    {
     "name": "stdout",
     "output_type": "stream",
     "text": [
      "0\n",
      "3\n",
      "6\n",
      "9\n",
      "12\n",
      "15\n"
     ]
    }
   ],
   "source": [
    "#islice it takes 4 parameters\n",
    "from itertools import*\n",
    "a=list(range(0,20))\n",
    "b=islice(a,0,16,3)\n",
    "for i in b:\n",
    "    print(i)\n"
   ]
  },
  {
   "cell_type": "code",
   "execution_count": 30,
   "id": "4c448379",
   "metadata": {},
   "outputs": [
    {
     "name": "stdout",
     "output_type": "stream",
     "text": [
      "4\n",
      "6\n",
      "8\n"
     ]
    }
   ],
   "source": [
    "#starmap it takes 2 parameters (x,y)values\n",
    "from itertools import*\n",
    "a=[(1,2),(3,4),(5,6)]\n",
    "b=starmap(lambda x,y:x+3,a)\n",
    "for i in b:\n",
    "    print(i)"
   ]
  },
  {
   "cell_type": "code",
   "execution_count": 31,
   "id": "cb9623ad",
   "metadata": {},
   "outputs": [
    {
     "name": "stdout",
     "output_type": "stream",
     "text": [
      "(1, 5)\n",
      "(2, 6)\n",
      "(3, 7)\n",
      "(4, 8)\n"
     ]
    }
   ],
   "source": [
    "#zip longest it fills misiing value\n",
    "from itertools import*\n",
    "a=(1,2,3,4)\n",
    "b=(5,6,7)\n",
    "c=zip_longest(a,b,fillvalue=8)\n",
    "for i in c:\n",
    "    print(i)"
   ]
  },
  {
   "cell_type": "code",
   "execution_count": 36,
   "id": "ca9dc67f",
   "metadata": {},
   "outputs": [
    {
     "name": "stdout",
     "output_type": "stream",
     "text": [
      "('a', 'a')\n",
      "('a', 'b')\n",
      "('a', 'c')\n",
      "('b', 'a')\n",
      "('b', 'b')\n",
      "('b', 'c')\n",
      "('c', 'a')\n",
      "('c', 'b')\n",
      "('c', 'c')\n"
     ]
    }
   ],
   "source": [
    "#combinations\n",
    "from itertools import*\n",
    "a=product('abc',repeat=2)\n",
    "for i in a:\n",
    "    print(i)\n"
   ]
  },
  {
   "cell_type": "code",
   "execution_count": 40,
   "id": "aeafe2ff",
   "metadata": {},
   "outputs": [
    {
     "name": "stdout",
     "output_type": "stream",
     "text": [
      "('a', 'b', 'c')\n",
      "('a', 'c', 'b')\n",
      "('b', 'a', 'c')\n",
      "('b', 'c', 'a')\n",
      "('c', 'a', 'b')\n",
      "('c', 'b', 'a')\n"
     ]
    }
   ],
   "source": [
    "#permutation\n",
    "from itertools import *\n",
    "a=permutations('abc',3)\n",
    "for i in a:\n",
    "    print(i)\n"
   ]
  },
  {
   "cell_type": "code",
   "execution_count": 43,
   "id": "909307d6",
   "metadata": {},
   "outputs": [
    {
     "name": "stdout",
     "output_type": "stream",
     "text": [
      "('a', 'a')\n",
      "('a', 'b')\n",
      "('a', 'c')\n",
      "('b', 'b')\n",
      "('b', 'c')\n",
      "('c', 'c')\n"
     ]
    }
   ],
   "source": [
    "#combinations\n",
    "from itertools import *\n",
    "a=combinations_with_replacement('abc',2)\n",
    "for i in a:\n",
    "    print(i)"
   ]
  },
  {
   "cell_type": "code",
   "execution_count": null,
   "id": "57cfbf15",
   "metadata": {},
   "outputs": [],
   "source": []
  }
 ],
 "metadata": {
  "kernelspec": {
   "display_name": "Python 3",
   "language": "python",
   "name": "python3"
  },
  "language_info": {
   "codemirror_mode": {
    "name": "ipython",
    "version": 3
   },
   "file_extension": ".py",
   "mimetype": "text/x-python",
   "name": "python",
   "nbconvert_exporter": "python",
   "pygments_lexer": "ipython3",
   "version": "3.8.8"
  }
 },
 "nbformat": 4,
 "nbformat_minor": 5
}
